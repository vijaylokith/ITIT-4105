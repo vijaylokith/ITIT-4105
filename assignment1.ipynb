{
 "cells": [
  {
   "cell_type": "markdown",
   "id": "c534e310",
   "metadata": {},
   "source": [
    "# Machine Learning Lab Assignment 1"
   ]
  },
  {
   "cell_type": "markdown",
   "id": "773f5a10",
   "metadata": {},
   "source": [
    "## 1) Data types operations\n"
   ]
  },
  {
   "cell_type": "markdown",
   "id": "52de4c3d",
   "metadata": {},
   "source": [
    "> ### 1.1) Integer (int)"
   ]
  },
  {
   "cell_type": "markdown",
   "id": "23fc6606",
   "metadata": {},
   "source": [
    "### **Arithmetic Operations**"
   ]
  },
  {
   "cell_type": "code",
   "execution_count": 6,
   "id": "7ab0a8fb",
   "metadata": {},
   "outputs": [
    {
     "name": "stdout",
     "output_type": "stream",
     "text": [
      "Addition 28 + 11 = 39 \n",
      " \n",
      "Subration 28 - 11 = 17 \n",
      " \n",
      "Subration 11 - 28 = -17 \n",
      " \n",
      "Multiplication 28 x 11 = 308 \n",
      " \n",
      "Division(complete value) 28 / 11 = 2.5454545454545454 \n",
      " \n",
      "Division(quotient) 28 // 11 = 2 \n",
      " \n",
      "Division(remainder) 28 % 11 = 6 \n",
      " \n"
     ]
    }
   ],
   "source": [
    "a = 28\n",
    "b = 11\n",
    "\n",
    "# Addition\n",
    "print(f'Addition {a} + {b} = {a+b} \\n ')\n",
    "\n",
    "# Subration\n",
    "print(f'Subration {a} - {b} = {a-b} \\n ')\n",
    "print(f'Subration {b} - {a} = {b-a} \\n ')\n",
    "\n",
    "# Multiplication\n",
    "print(f'Multiplication {a} x {b} = {a*b} \\n ')\n",
    "\n",
    "# Division\n",
    "print(f'Division(complete value) {a} / {b} = {a/b} \\n ')  # in python '/' gives the complete float value\n",
    "\n",
    "print(f'Division(quotient) {a} // {b} = {a//b} \\n ')  # in python '//' gives the floor value of the result\n",
    "\n",
    "print(f'Division(remainder) {a} % {b} = {a%b} \\n ')  # in python '%' gives the remainder\n"
   ]
  },
  {
   "cell_type": "markdown",
   "id": "472187ac",
   "metadata": {},
   "source": [
    "> ### 1.2) Decimal (float)"
   ]
  },
  {
   "cell_type": "markdown",
   "id": "4462cf74",
   "metadata": {},
   "source": [
    "### **Arithmetic Operations**"
   ]
  },
  {
   "cell_type": "code",
   "execution_count": 7,
   "id": "fae6e0e5",
   "metadata": {},
   "outputs": [
    {
     "name": "stdout",
     "output_type": "stream",
     "text": [
      "Addition 28.0 + 11.0 = 39.0 \n",
      " \n",
      "Subration 28.0 - 11.0 = 17.0 \n",
      " \n",
      "Subration 11.0 - 28.0 = -17.0 \n",
      " \n",
      "Multiplication 28.0 x 11.0 = 308.0 \n",
      " \n",
      "Division(complete value) 28.0 / 11.0 = 2.5454545454545454 \n",
      " \n",
      "Division(quotient) 28.0 // 11.0 = 2.0 \n",
      " \n",
      "Division(remainder) 28.0 % 11.0 = 6.0 \n",
      " \n"
     ]
    }
   ],
   "source": [
    "# Same arithmetic operations as of int\n",
    "\n",
    "a = 28.0\n",
    "b = 11.0\n",
    "\n",
    "# Addition\n",
    "print(f'Addition {a} + {b} = {a+b} \\n ')\n",
    "\n",
    "# Subration\n",
    "print(f'Subration {a} - {b} = {a-b} \\n ')\n",
    "print(f'Subration {b} - {a} = {b-a} \\n ')\n",
    "\n",
    "# Multiplication\n",
    "print(f'Multiplication {a} x {b} = {a*b} \\n ')\n",
    "\n",
    "# Division\n",
    "print(f'Division(complete value) {a} / {b} = {a/b} \\n ')  # in python '/' gives the complete float value\n",
    "\n",
    "print(f'Division(quotient) {a} // {b} = {a//b} \\n ')  # in python '//' gives the floor value of the result\n",
    "\n",
    "print(f'Division(remainder) {a} % {b} = {a%b} \\n ')  # in python '%' gives the remainder"
   ]
  },
  {
   "cell_type": "markdown",
   "id": "1d013283",
   "metadata": {},
   "source": [
    "**If you clearly see early for int all the answers we also integer, now for float all the answers will also be in float**"
   ]
  },
  {
   "cell_type": "markdown",
   "id": "4629a4a8",
   "metadata": {},
   "source": [
    "> ### 1.3) String (str)"
   ]
  },
  {
   "cell_type": "code",
   "execution_count": 9,
   "id": "e569e97e",
   "metadata": {},
   "outputs": [
    {
     "name": "stdout",
     "output_type": "stream",
     "text": [
      "Concatenation of vijay and lokith -> vijaylokith \n",
      "\n",
      "Multiplication of 2 * vijay -> vijayvijay \n",
      "\n",
      "String slicing -> ijay\n"
     ]
    }
   ],
   "source": [
    "a = 'vijay'\n",
    "b = 'lokith'\n",
    "\n",
    "# Concatenation\n",
    "print(f'Concatenation of {a} and {b} -> {a+b} \\n')\n",
    "\n",
    "# Multiplication\n",
    "print(f'Multiplication of 2 * {a} -> {a*2} \\n')\n",
    "\n",
    "# Slicing\n",
    "print(f'String slicing -> {a[1:5]}')\n"
   ]
  },
  {
   "cell_type": "markdown",
   "id": "ee758008",
   "metadata": {},
   "source": [
    "> ### 1.3) Boolean (bool)"
   ]
  },
  {
   "cell_type": "code",
   "execution_count": null,
   "id": "5c0c5e15",
   "metadata": {},
   "outputs": [],
   "source": []
  },
  {
   "cell_type": "markdown",
   "id": "2c10936c",
   "metadata": {},
   "source": [
    "> ### 1.3) List"
   ]
  },
  {
   "cell_type": "code",
   "execution_count": 35,
   "id": "6d56ccba",
   "metadata": {},
   "outputs": [
    {
     "name": "stdout",
     "output_type": "stream",
     "text": [
      "Initial list [0, 1, 2, 3, 4, 5, 6, 7, 8, 9]\n",
      "\n",
      "after appending 10 [0, 1, 2, 3, 4, 5, 6, 7, 8, 9, 10] \n",
      "\n",
      "after removing the last element [0, 1, 2, 3, 4, 5, 6, 7, 8, 9]\n",
      "\n",
      "size of the list = 10\n"
     ]
    }
   ],
   "source": [
    "# List is a iterable container(data structure)\n",
    "# In python list is dynamic in size (just like vectors in c++)\n",
    "\n",
    "lst = [0,1,2,3,4,5,6,7,8,9]\n",
    "print(f'Initial list {lst}\\n')\n",
    "\n",
    "# append() -> add an element in the end of the list\n",
    "lst.append(10)\n",
    "print(f'after appending 10 {lst} \\n')\n",
    "\n",
    "# pop() -> removes the specified elements(index based) else removes the last element\n",
    "lst.pop()\n",
    "print(f'after removing the last element {lst}\\n')\n",
    "\n",
    "# len() -> returns the length of the list\n",
    "print(f'size of the list = {len(lst)}')"
   ]
  },
  {
   "cell_type": "markdown",
   "id": "08c3c0b3",
   "metadata": {},
   "source": [
    "## 2) Data types conversion\n"
   ]
  },
  {
   "cell_type": "code",
   "execution_count": 34,
   "id": "52427696",
   "metadata": {},
   "outputs": [
    {
     "name": "stdout",
     "output_type": "stream",
     "text": [
      "Converting '123' to integer: 123 -> <class 'int'> \n",
      "\n",
      "Converting '123' to integer: 123.0 -> <class 'float'> \n",
      "\n"
     ]
    }
   ],
   "source": [
    "a = 'abc'\n",
    "b= '123'\n",
    "\n",
    "# String to Integer\n",
    "print(f\"Converting '123' to integer: {int(b)} -> {type(int(b))} \\n\")\n",
    "\n",
    "# print(f\"Converting 'abc' to integer: {int(a)} -> {type(int(a))} \\n\") this will give error, as char or word cannot be converted into integer.\n",
    "\n",
    "\n",
    "# String to Float\n",
    "print(f\"Converting '123' to integer: {float(b)} -> {type(float(b))} \\n\")\n",
    "\n",
    "#print(f\"Converting 'abc' to integer: {float(a)} -> {type(float(a))} \\n\") this will give error, as char or word cannot be converted into float.\n"
   ]
  },
  {
   "cell_type": "markdown",
   "id": "8163a361",
   "metadata": {},
   "source": [
    "## 3) If - else statement\n"
   ]
  },
  {
   "cell_type": "markdown",
   "id": "0eed1916",
   "metadata": {},
   "source": [
    "> ### 3.1) Batch calculation based on roll numbers."
   ]
  },
  {
   "cell_type": "code",
   "execution_count": 41,
   "id": "4dc833b6",
   "metadata": {},
   "outputs": [
    {
     "name": "stdout",
     "output_type": "stream",
     "text": [
      "enter the last three digits of your roll number 114\n",
      "you belong to batch 2\n",
      "114\n"
     ]
    }
   ],
   "source": [
    "roll = int(input(\"enter the last three digits of your roll number \"))\n",
    "\n",
    "assert roll > 0 and roll <= 120 and int(roll) == roll, 'Enter proper details' # gives an error message when wrong information is inputed\n",
    "\n",
    "if roll <= 60:\n",
    "    print(\"You belong to batch 1\")\n",
    "\n",
    "else:\n",
    "    print(\"you belong to batch 2\")\n",
    "    \n",
    "print(roll)"
   ]
  },
  {
   "cell_type": "markdown",
   "id": "893aff0d",
   "metadata": {},
   "source": [
    "> ### 3.2) Grade calculation based on marks."
   ]
  },
  {
   "cell_type": "code",
   "execution_count": 44,
   "id": "e5cf670f",
   "metadata": {},
   "outputs": [
    {
     "name": "stdout",
     "output_type": "stream",
     "text": [
      "enter your mark 88\n",
      "your grade is 'A-'\n"
     ]
    }
   ],
   "source": [
    "mark = int(input(\"enter your mark \"))\n",
    "\n",
    "assert mark >= 0 and mark <= 100, 'Enter proper details' # gives an error message when wrong information is inputed.\n",
    "\n",
    "if mark < 35:\n",
    "    print(\"your grade is 'F'\")\n",
    "elif mark < 50:\n",
    "    print(\"your grade is 'C'\")\n",
    "elif mark < 75:\n",
    "    print(\"your grade is 'B-'\")\n",
    "elif mark < 85:\n",
    "    print(\"your grade is 'B'\")\n",
    "elif mark < 95:\n",
    "    print(\"your grade is 'A-'\")\n",
    "else:\n",
    "    print(\"your grade is 'A'\")"
   ]
  },
  {
   "cell_type": "markdown",
   "id": "6a67b396",
   "metadata": {},
   "source": [
    "> ### 3.3) Grade calculation based on marks."
   ]
  },
  {
   "cell_type": "code",
   "execution_count": null,
   "id": "361e179e",
   "metadata": {},
   "outputs": [],
   "source": []
  },
  {
   "cell_type": "markdown",
   "id": "cbac95c4",
   "metadata": {},
   "source": [
    "> ### 3.2) Grade calculation based on marks."
   ]
  },
  {
   "cell_type": "code",
   "execution_count": null,
   "id": "aad0cb59",
   "metadata": {},
   "outputs": [],
   "source": []
  },
  {
   "cell_type": "markdown",
   "id": "aeb176e3",
   "metadata": {},
   "source": [
    "## 4) Loops"
   ]
  },
  {
   "cell_type": "markdown",
   "id": "57664d83",
   "metadata": {},
   "source": [
    "> ### 4.1) Printing a right angle triangle."
   ]
  },
  {
   "cell_type": "code",
   "execution_count": 45,
   "id": "b81e1c93",
   "metadata": {},
   "outputs": [
    {
     "name": "stdout",
     "output_type": "stream",
     "text": [
      "\n",
      "*\n",
      "**\n",
      "***\n",
      "****\n",
      "*****\n",
      "******\n",
      "*******\n",
      "********\n",
      "*********\n"
     ]
    }
   ],
   "source": [
    "# for loop\n",
    "\n",
    "for i in range(10):\n",
    "    print(i*'*')"
   ]
  },
  {
   "cell_type": "markdown",
   "id": "2c6aee8f",
   "metadata": {},
   "source": [
    "> ### 4.2) Guess my birthday month."
   ]
  },
  {
   "cell_type": "code",
   "execution_count": 50,
   "id": "3b0b334e",
   "metadata": {},
   "outputs": [
    {
     "name": "stdout",
     "output_type": "stream",
     "text": [
      "Guess my birth month: 1\n",
      " WRONG- guess again: 2\n",
      " WRONG- guess again: 3\n",
      " WRONG- guess again: 4\n",
      "\n",
      " HINT: it is grater than 5\n",
      " WRONG- guess again: 8\n",
      " WRONG- guess again: 9\n",
      "\n",
      " HINT: it is greater than 10\n",
      " WRONG- guess again: 11\n",
      "\n",
      " yes!! you are correct, it's 11\n"
     ]
    }
   ],
   "source": [
    "# while loop\n",
    "\n",
    "x = int(input(\"Guess my birth month: \"))\n",
    "count=0\n",
    "assert x > 0 and x <= 12, 'Enter proper details' # gives an error message when wrong information is inputed\n",
    "\n",
    "while(x != 11):\n",
    "    if count == 3:\n",
    "        print(\"\\n HINT: it is grater than 5\")\n",
    "    elif count >=5:\n",
    "        print(\"\\n HINT: it is greater than 10\")\n",
    "        \n",
    "    x = int(input(\" WRONG- guess again: \"))\n",
    "    count+=1\n",
    "    \n",
    "\n",
    "print(f\"\\n yes!! you are correct, it's 11\")    "
   ]
  },
  {
   "cell_type": "markdown",
   "id": "0edc7aae",
   "metadata": {},
   "source": [
    "> ### 4.3) Guess my birthday month."
   ]
  },
  {
   "cell_type": "code",
   "execution_count": null,
   "id": "922214df",
   "metadata": {},
   "outputs": [],
   "source": [
    "# Nested loops\n",
    "\n"
   ]
  },
  {
   "cell_type": "code",
   "execution_count": null,
   "id": "1033ea27",
   "metadata": {},
   "outputs": [],
   "source": [
    "> ### 4.4) Guess my birthday month."
   ]
  },
  {
   "cell_type": "code",
   "execution_count": null,
   "id": "6dcccf89",
   "metadata": {},
   "outputs": [],
   "source": [
    "# Nested loops\n"
   ]
  },
  {
   "cell_type": "code",
   "execution_count": null,
   "id": "598f97d6",
   "metadata": {},
   "outputs": [],
   "source": []
  }
 ],
 "metadata": {
  "kernelspec": {
   "display_name": "Python 3 (ipykernel)",
   "language": "python",
   "name": "python3"
  },
  "language_info": {
   "codemirror_mode": {
    "name": "ipython",
    "version": 3
   },
   "file_extension": ".py",
   "mimetype": "text/x-python",
   "name": "python",
   "nbconvert_exporter": "python",
   "pygments_lexer": "ipython3",
   "version": "3.9.7"
  }
 },
 "nbformat": 4,
 "nbformat_minor": 5
}
